{
 "cells": [
  {
   "cell_type": "code",
   "execution_count": 2,
   "metadata": {},
   "outputs": [],
   "source": [
    "from yelpapi import YelpAPI\n",
    "from dotenv import load_dotenv\n",
    "import os\n",
    "load_dotenv()\n"
   ]
  },
  {
   "cell_type": "code",
   "execution_count": 6,
   "metadata": {},
   "outputs": [
    {
     "ename": "HTTPError",
     "evalue": "403 Client Error: Forbidden for url: https://api.yelp.com/v3/businesses/search?term=restaurants&location=Tampa+Bay%2C+FL&limit=5",
     "output_type": "error",
     "traceback": [
      "\u001b[0;31m---------------------------------------------------------------------------\u001b[0m",
      "\u001b[0;31mHTTPError\u001b[0m                                 Traceback (most recent call last)",
      "\u001b[1;32m/Users/scottpitcher/Desktop/python/Github/tampa-ai/main.ipynb Cell 2\u001b[0m line \u001b[0;36m9\n\u001b[1;32m      <a href='vscode-notebook-cell:/Users/scottpitcher/Desktop/python/Github/tampa-ai/main.ipynb#W1sZmlsZQ%3D%3D?line=2'>3</a>\u001b[0m yelp_api \u001b[39m=\u001b[39m YelpAPI(yelp_key, timeout_s\u001b[39m=\u001b[39m\u001b[39m3.0\u001b[39m)\n\u001b[1;32m      <a href='vscode-notebook-cell:/Users/scottpitcher/Desktop/python/Github/tampa-ai/main.ipynb#W1sZmlsZQ%3D%3D?line=4'>5</a>\u001b[0m args \u001b[39m=\u001b[39m {\u001b[39m'\u001b[39m\u001b[39mterm\u001b[39m\u001b[39m'\u001b[39m: \u001b[39m'\u001b[39m\u001b[39mrestaurants\u001b[39m\u001b[39m'\u001b[39m,\n\u001b[1;32m      <a href='vscode-notebook-cell:/Users/scottpitcher/Desktop/python/Github/tampa-ai/main.ipynb#W1sZmlsZQ%3D%3D?line=5'>6</a>\u001b[0m     \u001b[39m'\u001b[39m\u001b[39mlocation\u001b[39m\u001b[39m'\u001b[39m: \u001b[39m'\u001b[39m\u001b[39mTampa Bay, FL\u001b[39m\u001b[39m'\u001b[39m,\n\u001b[1;32m      <a href='vscode-notebook-cell:/Users/scottpitcher/Desktop/python/Github/tampa-ai/main.ipynb#W1sZmlsZQ%3D%3D?line=6'>7</a>\u001b[0m     \u001b[39m'\u001b[39m\u001b[39mlimit\u001b[39m\u001b[39m'\u001b[39m: \u001b[39m5\u001b[39m}\n\u001b[0;32m----> <a href='vscode-notebook-cell:/Users/scottpitcher/Desktop/python/Github/tampa-ai/main.ipynb#W1sZmlsZQ%3D%3D?line=8'>9</a>\u001b[0m search_results \u001b[39m=\u001b[39m yelp_api\u001b[39m.\u001b[39;49msearch_query(\u001b[39m*\u001b[39;49m\u001b[39m*\u001b[39;49margs)\n\u001b[1;32m     <a href='vscode-notebook-cell:/Users/scottpitcher/Desktop/python/Github/tampa-ai/main.ipynb#W1sZmlsZQ%3D%3D?line=10'>11</a>\u001b[0m \u001b[39mfor\u001b[39;00m business \u001b[39min\u001b[39;00m search_results[\u001b[39m'\u001b[39m\u001b[39mbusinesses\u001b[39m\u001b[39m'\u001b[39m]:\n\u001b[1;32m     <a href='vscode-notebook-cell:/Users/scottpitcher/Desktop/python/Github/tampa-ai/main.ipynb#W1sZmlsZQ%3D%3D?line=11'>12</a>\u001b[0m     \u001b[39mprint\u001b[39m(business[\u001b[39m'\u001b[39m\u001b[39mname\u001b[39m\u001b[39m'\u001b[39m])\n",
      "File \u001b[0;32m~/Desktop/python/Github/tampa-ai/.venv/lib/python3.12/site-packages/yelpapi/yelpapi.py:251\u001b[0m, in \u001b[0;36mYelpAPI.search_query\u001b[0;34m(self, **kwargs)\u001b[0m\n\u001b[1;32m    247\u001b[0m \u001b[39mif\u001b[39;00m \u001b[39mnot\u001b[39;00m kwargs\u001b[39m.\u001b[39mget(\u001b[39m'\u001b[39m\u001b[39mlocation\u001b[39m\u001b[39m'\u001b[39m) \u001b[39mand\u001b[39;00m (\u001b[39mnot\u001b[39;00m kwargs\u001b[39m.\u001b[39mget(\u001b[39m'\u001b[39m\u001b[39mlatitude\u001b[39m\u001b[39m'\u001b[39m) \u001b[39mor\u001b[39;00m \u001b[39mnot\u001b[39;00m kwargs\u001b[39m.\u001b[39mget(\u001b[39m'\u001b[39m\u001b[39mlongitude\u001b[39m\u001b[39m'\u001b[39m)):\n\u001b[1;32m    248\u001b[0m     \u001b[39mraise\u001b[39;00m \u001b[39mValueError\u001b[39;00m(\u001b[39m'\u001b[39m\u001b[39mA valid location (parameter \u001b[39m\u001b[39m\"\u001b[39m\u001b[39mlocation\u001b[39m\u001b[39m\"\u001b[39m\u001b[39m) or latitude/longitude combination \u001b[39m\u001b[39m'\u001b[39m\n\u001b[1;32m    249\u001b[0m                      \u001b[39m'\u001b[39m\u001b[39m(parameters \u001b[39m\u001b[39m\"\u001b[39m\u001b[39mlatitude\u001b[39m\u001b[39m\"\u001b[39m\u001b[39m and \u001b[39m\u001b[39m\"\u001b[39m\u001b[39mlongitude\u001b[39m\u001b[39m\"\u001b[39m\u001b[39m) must be provided.\u001b[39m\u001b[39m'\u001b[39m)\n\u001b[0;32m--> 251\u001b[0m \u001b[39mreturn\u001b[39;00m \u001b[39mself\u001b[39;49m\u001b[39m.\u001b[39;49m_query(SEARCH_API_URL, \u001b[39m*\u001b[39;49m\u001b[39m*\u001b[39;49mkwargs)\n",
      "File \u001b[0;32m~/Desktop/python/Github/tampa-ai/.venv/lib/python3.12/site-packages/yelpapi/yelpapi.py:293\u001b[0m, in \u001b[0;36mYelpAPI._query\u001b[0;34m(self, url, **kwargs)\u001b[0m\n\u001b[1;32m    286\u001b[0m parameters \u001b[39m=\u001b[39m YelpAPI\u001b[39m.\u001b[39m_get_clean_parameters(kwargs)\n\u001b[1;32m    287\u001b[0m response \u001b[39m=\u001b[39m \u001b[39mself\u001b[39m\u001b[39m.\u001b[39m_yelp_session\u001b[39m.\u001b[39mget(\n\u001b[1;32m    288\u001b[0m     url,\n\u001b[1;32m    289\u001b[0m     headers\u001b[39m=\u001b[39m\u001b[39mself\u001b[39m\u001b[39m.\u001b[39m_headers,\n\u001b[1;32m    290\u001b[0m     params\u001b[39m=\u001b[39mparameters,\n\u001b[1;32m    291\u001b[0m     timeout\u001b[39m=\u001b[39m\u001b[39mself\u001b[39m\u001b[39m.\u001b[39m_timeout_s,\n\u001b[1;32m    292\u001b[0m )\n\u001b[0;32m--> 293\u001b[0m response\u001b[39m.\u001b[39;49mraise_for_status()  \u001b[39m# will raise error if error status code received: https://requests.readthedocs.io/en/latest/api/#requests.Response.raise_for_status\u001b[39;00m\n\u001b[1;32m    295\u001b[0m response_json \u001b[39m=\u001b[39m response\u001b[39m.\u001b[39mjson()  \u001b[39m# shouldn't happen, but this will raise a ValueError if the response isn't JSON\u001b[39;00m\n\u001b[1;32m    297\u001b[0m \u001b[39m# Yelp can return one of many different API errors, so check for one of them.\u001b[39;00m\n\u001b[1;32m    298\u001b[0m \u001b[39m# The Yelp Fusion API does not yet have a complete list of errors, but this is on the TODO list; see\u001b[39;00m\n\u001b[1;32m    299\u001b[0m \u001b[39m# https://github.com/Yelp/yelp-fusion/issues/95 for more info.\u001b[39;00m\n",
      "File \u001b[0;32m~/Desktop/python/Github/tampa-ai/.venv/lib/python3.12/site-packages/requests/models.py:1021\u001b[0m, in \u001b[0;36mResponse.raise_for_status\u001b[0;34m(self)\u001b[0m\n\u001b[1;32m   1016\u001b[0m     http_error_msg \u001b[39m=\u001b[39m (\n\u001b[1;32m   1017\u001b[0m         \u001b[39mf\u001b[39m\u001b[39m\"\u001b[39m\u001b[39m{\u001b[39;00m\u001b[39mself\u001b[39m\u001b[39m.\u001b[39mstatus_code\u001b[39m}\u001b[39;00m\u001b[39m Server Error: \u001b[39m\u001b[39m{\u001b[39;00mreason\u001b[39m}\u001b[39;00m\u001b[39m for url: \u001b[39m\u001b[39m{\u001b[39;00m\u001b[39mself\u001b[39m\u001b[39m.\u001b[39murl\u001b[39m}\u001b[39;00m\u001b[39m\"\u001b[39m\n\u001b[1;32m   1018\u001b[0m     )\n\u001b[1;32m   1020\u001b[0m \u001b[39mif\u001b[39;00m http_error_msg:\n\u001b[0;32m-> 1021\u001b[0m     \u001b[39mraise\u001b[39;00m HTTPError(http_error_msg, response\u001b[39m=\u001b[39m\u001b[39mself\u001b[39m)\n",
      "\u001b[0;31mHTTPError\u001b[0m: 403 Client Error: Forbidden for url: https://api.yelp.com/v3/businesses/search?term=restaurants&location=Tampa+Bay%2C+FL&limit=5"
     ]
    }
   ],
   "source": [
    "yelp_key = os.getenv('YELP_API_KEY')\n",
    "\n",
    "yelp_api = YelpAPI(yelp_key, timeout_s=3.0)\n",
    "\n",
    "args = {'term': 'restaurants',\n",
    "    'location': 'Tampa Bay, FL',\n",
    "    'limit': 5}\n",
    "\n",
    "search_results = yelp_api.search_query(**args)\n",
    "\n",
    "for business in search_results['businesses']:\n",
    "    print(business['name'])\n",
    "    print(business['location'])\n",
    "    print(business['phone'])\n",
    "    print('---')"
   ]
  }
 ],
 "metadata": {
  "kernelspec": {
   "display_name": ".venv",
   "language": "python",
   "name": "python3"
  },
  "language_info": {
   "codemirror_mode": {
    "name": "ipython",
    "version": 3
   },
   "file_extension": ".py",
   "mimetype": "text/x-python",
   "name": "python",
   "nbconvert_exporter": "python",
   "pygments_lexer": "ipython3",
   "version": "3.12.0"
  }
 },
 "nbformat": 4,
 "nbformat_minor": 2
}
