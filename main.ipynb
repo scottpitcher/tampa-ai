{
 "cells": [
  {
   "cell_type": "code",
   "execution_count": null,
   "metadata": {},
   "outputs": [],
   "source": [
    "from yelpapi import YelpAPI\n",
    "from dotenv import load_dotenv\n",
    "import os"
   ]
  },
  {
   "cell_type": "code",
   "execution_count": null,
   "metadata": {},
   "outputs": [],
   "source": [
    "load_dotenv()\n",
    "yelp_key = os.getenv('YELP_API_KEY')\n",
    "open_ai_key = os.getenv('OPENAI_API_KEY')\n",
    "\n",
    "yelp_api = YelpAPI(yelp_key, timeout_s=3.0)\n",
    "\n",
    "args = {'term': 'restaurants',\n",
    "    'location': 'Tampa Bay, FL',\n",
    "    'limit': 5}\n",
    "\n",
    "search_results = yelp_api.search_query(**args)\n",
    "\n",
    "for business in search_results['businesses']:\n",
    "    print(business['name'])\n",
    "    print(business['location'])\n",
    "    print(business['phone'])\n",
    "    print('---')"
   ]
  },
  {
   "cell_type": "code",
   "execution_count": null,
   "metadata": {},
   "outputs": [],
   "source": []
  }
 ],
 "metadata": {
  "language_info": {
   "name": "python"
  }
 },
 "nbformat": 4,
 "nbformat_minor": 2
}
